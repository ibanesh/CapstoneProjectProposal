{
 "cells": [
  {
   "cell_type": "code",
   "execution_count": 1,
   "metadata": {
    "collapsed": true
   },
   "outputs": [],
   "source": [
    "import numpy as np\n",
    "import scipy as sp\n",
    "import pandas as pd\n",
    "from scipy import optimize\n",
    "import matplotlib.pyplot as plt\n",
    "import json,os\n",
    "%matplotlib inline"
   ]
  },
  {
   "cell_type": "code",
   "execution_count": 2,
   "metadata": {
    "collapsed": true
   },
   "outputs": [],
   "source": [
    "df_reviews = pd.read_csv('Yelp_dataset/review_json_to_pd_to_csv.csv')\n",
    "df_business = pd.read_csv('Yelp_dataset/business_json_to_pd_to_csv.csv')\n",
    "df_users = pd.read_csv('Yelp_dataset/user_json_to_pd_to_csv.csv')"
   ]
  },
  {
   "cell_type": "code",
   "execution_count": 3,
   "metadata": {
    "collapsed": true
   },
   "outputs": [],
   "source": [
    "temp = pd.merge(df_business,df_reviews,on='business_id',how='inner')"
   ]
  },
  {
   "cell_type": "code",
   "execution_count": 4,
   "metadata": {},
   "outputs": [
    {
     "data": {
      "text/html": [
       "<div>\n",
       "<style scoped>\n",
       "    .dataframe tbody tr th:only-of-type {\n",
       "        vertical-align: middle;\n",
       "    }\n",
       "\n",
       "    .dataframe tbody tr th {\n",
       "        vertical-align: top;\n",
       "    }\n",
       "\n",
       "    .dataframe thead th {\n",
       "        text-align: right;\n",
       "    }\n",
       "</style>\n",
       "<table border=\"1\" class=\"dataframe\">\n",
       "  <thead>\n",
       "    <tr style=\"text-align: right;\">\n",
       "      <th></th>\n",
       "      <th>address</th>\n",
       "      <th>attributes</th>\n",
       "      <th>business_id</th>\n",
       "      <th>categories</th>\n",
       "      <th>city</th>\n",
       "      <th>hours</th>\n",
       "      <th>is_open</th>\n",
       "      <th>latitude</th>\n",
       "      <th>longitude</th>\n",
       "      <th>name</th>\n",
       "      <th>...</th>\n",
       "      <th>stars_x</th>\n",
       "      <th>state</th>\n",
       "      <th>cool</th>\n",
       "      <th>date</th>\n",
       "      <th>funny</th>\n",
       "      <th>review_id</th>\n",
       "      <th>stars_y</th>\n",
       "      <th>text</th>\n",
       "      <th>useful</th>\n",
       "      <th>user_id</th>\n",
       "    </tr>\n",
       "  </thead>\n",
       "  <tbody>\n",
       "    <tr>\n",
       "      <th>0</th>\n",
       "      <td>4855 E Warner Rd, Ste B9</td>\n",
       "      <td>{u'AcceptsInsurance': True, u'ByAppointmentOnl...</td>\n",
       "      <td>FYWN1wneV18bWNgQjJ2GNg</td>\n",
       "      <td>[Dentists, General Dentistry, Health &amp; Medical...</td>\n",
       "      <td>Ahwatukee</td>\n",
       "      <td>{u'Tuesday': u'7:30-17:00', u'Friday': u'7:30-...</td>\n",
       "      <td>1</td>\n",
       "      <td>33.33069</td>\n",
       "      <td>-111.978599</td>\n",
       "      <td>Dental by Design</td>\n",
       "      <td>...</td>\n",
       "      <td>4.0</td>\n",
       "      <td>AZ</td>\n",
       "      <td>0</td>\n",
       "      <td>2017-02-22</td>\n",
       "      <td>0.0</td>\n",
       "      <td>3_-fne2m2GvKESZRlULAiw</td>\n",
       "      <td>5.0</td>\n",
       "      <td>They make a plan, for your mouth to get health...</td>\n",
       "      <td>0.0</td>\n",
       "      <td>jTvKkNTat9QftSxL_FMcQw</td>\n",
       "    </tr>\n",
       "    <tr>\n",
       "      <th>1</th>\n",
       "      <td>4855 E Warner Rd, Ste B9</td>\n",
       "      <td>{u'AcceptsInsurance': True, u'ByAppointmentOnl...</td>\n",
       "      <td>FYWN1wneV18bWNgQjJ2GNg</td>\n",
       "      <td>[Dentists, General Dentistry, Health &amp; Medical...</td>\n",
       "      <td>Ahwatukee</td>\n",
       "      <td>{u'Tuesday': u'7:30-17:00', u'Friday': u'7:30-...</td>\n",
       "      <td>1</td>\n",
       "      <td>33.33069</td>\n",
       "      <td>-111.978599</td>\n",
       "      <td>Dental by Design</td>\n",
       "      <td>...</td>\n",
       "      <td>4.0</td>\n",
       "      <td>AZ</td>\n",
       "      <td>0</td>\n",
       "      <td>2015-01-20</td>\n",
       "      <td>0.0</td>\n",
       "      <td>5gJk64TDq5lqSuoNiaqjVQ</td>\n",
       "      <td>5.0</td>\n",
       "      <td>I have extreme anxiety when it comes to the de...</td>\n",
       "      <td>1.0</td>\n",
       "      <td>IG6XMgQyWF2_RW1nKEioxA</td>\n",
       "    </tr>\n",
       "  </tbody>\n",
       "</table>\n",
       "<p>2 rows × 23 columns</p>\n",
       "</div>"
      ],
      "text/plain": [
       "                    address  \\\n",
       "0  4855 E Warner Rd, Ste B9   \n",
       "1  4855 E Warner Rd, Ste B9   \n",
       "\n",
       "                                          attributes             business_id  \\\n",
       "0  {u'AcceptsInsurance': True, u'ByAppointmentOnl...  FYWN1wneV18bWNgQjJ2GNg   \n",
       "1  {u'AcceptsInsurance': True, u'ByAppointmentOnl...  FYWN1wneV18bWNgQjJ2GNg   \n",
       "\n",
       "                                          categories       city  \\\n",
       "0  [Dentists, General Dentistry, Health & Medical...  Ahwatukee   \n",
       "1  [Dentists, General Dentistry, Health & Medical...  Ahwatukee   \n",
       "\n",
       "                                               hours  is_open  latitude  \\\n",
       "0  {u'Tuesday': u'7:30-17:00', u'Friday': u'7:30-...        1  33.33069   \n",
       "1  {u'Tuesday': u'7:30-17:00', u'Friday': u'7:30-...        1  33.33069   \n",
       "\n",
       "    longitude              name           ...           stars_x state  cool  \\\n",
       "0 -111.978599  Dental by Design           ...               4.0    AZ     0   \n",
       "1 -111.978599  Dental by Design           ...               4.0    AZ     0   \n",
       "\n",
       "         date funny               review_id stars_y  \\\n",
       "0  2017-02-22   0.0  3_-fne2m2GvKESZRlULAiw     5.0   \n",
       "1  2015-01-20   0.0  5gJk64TDq5lqSuoNiaqjVQ     5.0   \n",
       "\n",
       "                                                text useful  \\\n",
       "0  They make a plan, for your mouth to get health...    0.0   \n",
       "1  I have extreme anxiety when it comes to the de...    1.0   \n",
       "\n",
       "                  user_id  \n",
       "0  jTvKkNTat9QftSxL_FMcQw  \n",
       "1  IG6XMgQyWF2_RW1nKEioxA  \n",
       "\n",
       "[2 rows x 23 columns]"
      ]
     },
     "execution_count": 4,
     "metadata": {},
     "output_type": "execute_result"
    }
   ],
   "source": [
    "temp.head(2)"
   ]
  },
  {
   "cell_type": "code",
   "execution_count": 5,
   "metadata": {
    "collapsed": true
   },
   "outputs": [],
   "source": [
    "df_merged = pd.merge(temp,df_users,on='user_id',how='inner')"
   ]
  },
  {
   "cell_type": "code",
   "execution_count": 6,
   "metadata": {},
   "outputs": [
    {
     "data": {
      "text/html": [
       "<div>\n",
       "<style scoped>\n",
       "    .dataframe tbody tr th:only-of-type {\n",
       "        vertical-align: middle;\n",
       "    }\n",
       "\n",
       "    .dataframe tbody tr th {\n",
       "        vertical-align: top;\n",
       "    }\n",
       "\n",
       "    .dataframe thead th {\n",
       "        text-align: right;\n",
       "    }\n",
       "</style>\n",
       "<table border=\"1\" class=\"dataframe\">\n",
       "  <thead>\n",
       "    <tr style=\"text-align: right;\">\n",
       "      <th></th>\n",
       "      <th>address</th>\n",
       "      <th>attributes</th>\n",
       "      <th>business_id</th>\n",
       "      <th>categories</th>\n",
       "      <th>city</th>\n",
       "      <th>hours</th>\n",
       "      <th>is_open</th>\n",
       "      <th>latitude</th>\n",
       "      <th>longitude</th>\n",
       "      <th>name_x</th>\n",
       "      <th>...</th>\n",
       "      <th>compliment_writer</th>\n",
       "      <th>cool_y</th>\n",
       "      <th>elite</th>\n",
       "      <th>fans</th>\n",
       "      <th>friends</th>\n",
       "      <th>funny_y</th>\n",
       "      <th>name_y</th>\n",
       "      <th>review_count_y</th>\n",
       "      <th>useful_y</th>\n",
       "      <th>yelping_since</th>\n",
       "    </tr>\n",
       "  </thead>\n",
       "  <tbody>\n",
       "    <tr>\n",
       "      <th>0</th>\n",
       "      <td>4855 E Warner Rd, Ste B9</td>\n",
       "      <td>{u'AcceptsInsurance': True, u'ByAppointmentOnl...</td>\n",
       "      <td>FYWN1wneV18bWNgQjJ2GNg</td>\n",
       "      <td>[Dentists, General Dentistry, Health &amp; Medical...</td>\n",
       "      <td>Ahwatukee</td>\n",
       "      <td>{u'Tuesday': u'7:30-17:00', u'Friday': u'7:30-...</td>\n",
       "      <td>1</td>\n",
       "      <td>33.330690</td>\n",
       "      <td>-111.978599</td>\n",
       "      <td>Dental by Design</td>\n",
       "      <td>...</td>\n",
       "      <td>0</td>\n",
       "      <td>31</td>\n",
       "      <td>[]</td>\n",
       "      <td>1</td>\n",
       "      <td>[20NU0t5ByjoHnPWTtckN1g]</td>\n",
       "      <td>38</td>\n",
       "      <td>Linz</td>\n",
       "      <td>25</td>\n",
       "      <td>174</td>\n",
       "      <td>2011-06-19</td>\n",
       "    </tr>\n",
       "    <tr>\n",
       "      <th>1</th>\n",
       "      <td>4252 S 48th St</td>\n",
       "      <td>{u'GoodForMeal': {u'dessert': False, u'latenig...</td>\n",
       "      <td>g-aAe8SqZlZTnN3oA8mNlw</td>\n",
       "      <td>[Mexican, Restaurants, Breakfast &amp; Brunch, Foo...</td>\n",
       "      <td>Phoenix</td>\n",
       "      <td>{u'Monday': u'6:00-0:00', u'Tuesday': u'6:00-0...</td>\n",
       "      <td>1</td>\n",
       "      <td>33.407691</td>\n",
       "      <td>-111.978612</td>\n",
       "      <td>Del Taco</td>\n",
       "      <td>...</td>\n",
       "      <td>0</td>\n",
       "      <td>31</td>\n",
       "      <td>[]</td>\n",
       "      <td>1</td>\n",
       "      <td>[20NU0t5ByjoHnPWTtckN1g]</td>\n",
       "      <td>38</td>\n",
       "      <td>Linz</td>\n",
       "      <td>25</td>\n",
       "      <td>174</td>\n",
       "      <td>2011-06-19</td>\n",
       "    </tr>\n",
       "  </tbody>\n",
       "</table>\n",
       "<p>2 rows × 44 columns</p>\n",
       "</div>"
      ],
      "text/plain": [
       "                    address  \\\n",
       "0  4855 E Warner Rd, Ste B9   \n",
       "1            4252 S 48th St   \n",
       "\n",
       "                                          attributes             business_id  \\\n",
       "0  {u'AcceptsInsurance': True, u'ByAppointmentOnl...  FYWN1wneV18bWNgQjJ2GNg   \n",
       "1  {u'GoodForMeal': {u'dessert': False, u'latenig...  g-aAe8SqZlZTnN3oA8mNlw   \n",
       "\n",
       "                                          categories       city  \\\n",
       "0  [Dentists, General Dentistry, Health & Medical...  Ahwatukee   \n",
       "1  [Mexican, Restaurants, Breakfast & Brunch, Foo...    Phoenix   \n",
       "\n",
       "                                               hours  is_open   latitude  \\\n",
       "0  {u'Tuesday': u'7:30-17:00', u'Friday': u'7:30-...        1  33.330690   \n",
       "1  {u'Monday': u'6:00-0:00', u'Tuesday': u'6:00-0...        1  33.407691   \n",
       "\n",
       "    longitude            name_x      ...       compliment_writer cool_y  \\\n",
       "0 -111.978599  Dental by Design      ...                       0     31   \n",
       "1 -111.978612          Del Taco      ...                       0     31   \n",
       "\n",
       "   elite  fans                   friends  funny_y name_y  review_count_y  \\\n",
       "0     []     1  [20NU0t5ByjoHnPWTtckN1g]       38   Linz              25   \n",
       "1     []     1  [20NU0t5ByjoHnPWTtckN1g]       38   Linz              25   \n",
       "\n",
       "  useful_y  yelping_since  \n",
       "0      174     2011-06-19  \n",
       "1      174     2011-06-19  \n",
       "\n",
       "[2 rows x 44 columns]"
      ]
     },
     "execution_count": 6,
     "metadata": {},
     "output_type": "execute_result"
    }
   ],
   "source": [
    "df_merged.head(2)"
   ]
  },
  {
   "cell_type": "code",
   "execution_count": 7,
   "metadata": {
    "collapsed": true
   },
   "outputs": [],
   "source": [
    "df_final = df_merged[(df_merged.categories.str.contains(\"Restaurants|Food\",case=False)) & (df_merged.city == \"Las Vegas\")][['business_id', 'name_x', 'review_count_x', 'stars_x', 'user_id', 'name_y', 'review_count_y', 'stars_y', 'city', 'average_stars','review_count_y', 'review_id']]"
   ]
  },
  {
   "cell_type": "code",
   "execution_count": 8,
   "metadata": {},
   "outputs": [
    {
     "data": {
      "text/html": [
       "<div>\n",
       "<style scoped>\n",
       "    .dataframe tbody tr th:only-of-type {\n",
       "        vertical-align: middle;\n",
       "    }\n",
       "\n",
       "    .dataframe tbody tr th {\n",
       "        vertical-align: top;\n",
       "    }\n",
       "\n",
       "    .dataframe thead th {\n",
       "        text-align: right;\n",
       "    }\n",
       "</style>\n",
       "<table border=\"1\" class=\"dataframe\">\n",
       "  <thead>\n",
       "    <tr style=\"text-align: right;\">\n",
       "      <th></th>\n",
       "      <th>business_id</th>\n",
       "      <th>name_x</th>\n",
       "      <th>review_count_x</th>\n",
       "      <th>stars_x</th>\n",
       "      <th>user_id</th>\n",
       "      <th>name_y</th>\n",
       "      <th>review_count_y</th>\n",
       "      <th>stars_y</th>\n",
       "      <th>city</th>\n",
       "      <th>average_stars</th>\n",
       "      <th>review_count_y</th>\n",
       "      <th>review_id</th>\n",
       "    </tr>\n",
       "  </thead>\n",
       "  <tbody>\n",
       "    <tr>\n",
       "      <th>87</th>\n",
       "      <td>DVJkxZkLKS76Khb2y6XA6A</td>\n",
       "      <td>Protein House</td>\n",
       "      <td>382</td>\n",
       "      <td>4.0</td>\n",
       "      <td>YcmNpPM0ag94g4T0zAtdcg</td>\n",
       "      <td>Jenn</td>\n",
       "      <td>55</td>\n",
       "      <td>4.0</td>\n",
       "      <td>Las Vegas</td>\n",
       "      <td>4.02</td>\n",
       "      <td>55</td>\n",
       "      <td>mPq_g2Cx_pMQ72_-BGRCVg</td>\n",
       "    </tr>\n",
       "    <tr>\n",
       "      <th>594</th>\n",
       "      <td>iCQpiavjjPzJ5_3gPD5Ebg</td>\n",
       "      <td>Secret Pizza</td>\n",
       "      <td>3741</td>\n",
       "      <td>4.0</td>\n",
       "      <td>NnrCwpS1i5mZtkGGzmIk0g</td>\n",
       "      <td>Serena</td>\n",
       "      <td>428</td>\n",
       "      <td>3.0</td>\n",
       "      <td>Las Vegas</td>\n",
       "      <td>3.80</td>\n",
       "      <td>428</td>\n",
       "      <td>fGtEJo9Rf-EpMBvHYjiXLw</td>\n",
       "    </tr>\n",
       "  </tbody>\n",
       "</table>\n",
       "</div>"
      ],
      "text/plain": [
       "                business_id         name_x  review_count_x  stars_x  \\\n",
       "87   DVJkxZkLKS76Khb2y6XA6A  Protein House             382      4.0   \n",
       "594  iCQpiavjjPzJ5_3gPD5Ebg   Secret Pizza            3741      4.0   \n",
       "\n",
       "                    user_id  name_y  review_count_y  stars_y       city  \\\n",
       "87   YcmNpPM0ag94g4T0zAtdcg    Jenn              55      4.0  Las Vegas   \n",
       "594  NnrCwpS1i5mZtkGGzmIk0g  Serena             428      3.0  Las Vegas   \n",
       "\n",
       "     average_stars  review_count_y               review_id  \n",
       "87            4.02              55  mPq_g2Cx_pMQ72_-BGRCVg  \n",
       "594           3.80             428  fGtEJo9Rf-EpMBvHYjiXLw  "
      ]
     },
     "execution_count": 8,
     "metadata": {},
     "output_type": "execute_result"
    }
   ],
   "source": [
    "df_final.head(2)"
   ]
  },
  {
   "cell_type": "code",
   "execution_count": 9,
   "metadata": {},
   "outputs": [
    {
     "data": {
      "text/html": [
       "<div>\n",
       "<style scoped>\n",
       "    .dataframe tbody tr th:only-of-type {\n",
       "        vertical-align: middle;\n",
       "    }\n",
       "\n",
       "    .dataframe tbody tr th {\n",
       "        vertical-align: top;\n",
       "    }\n",
       "\n",
       "    .dataframe thead th {\n",
       "        text-align: right;\n",
       "    }\n",
       "</style>\n",
       "<table border=\"1\" class=\"dataframe\">\n",
       "  <thead>\n",
       "    <tr style=\"text-align: right;\">\n",
       "      <th></th>\n",
       "      <th>business_id</th>\n",
       "      <th>business_name</th>\n",
       "      <th>business_review_count</th>\n",
       "      <th>business_average</th>\n",
       "      <th>user_id</th>\n",
       "      <th>user_name</th>\n",
       "      <th>user_review_count</th>\n",
       "      <th>stars</th>\n",
       "      <th>city</th>\n",
       "      <th>user_avg</th>\n",
       "      <th>review_count_y</th>\n",
       "      <th>review_id</th>\n",
       "    </tr>\n",
       "  </thead>\n",
       "  <tbody>\n",
       "    <tr>\n",
       "      <th>87</th>\n",
       "      <td>DVJkxZkLKS76Khb2y6XA6A</td>\n",
       "      <td>Protein House</td>\n",
       "      <td>382</td>\n",
       "      <td>4.0</td>\n",
       "      <td>YcmNpPM0ag94g4T0zAtdcg</td>\n",
       "      <td>Jenn</td>\n",
       "      <td>55</td>\n",
       "      <td>4.0</td>\n",
       "      <td>Las Vegas</td>\n",
       "      <td>4.02</td>\n",
       "      <td>55</td>\n",
       "      <td>mPq_g2Cx_pMQ72_-BGRCVg</td>\n",
       "    </tr>\n",
       "    <tr>\n",
       "      <th>594</th>\n",
       "      <td>iCQpiavjjPzJ5_3gPD5Ebg</td>\n",
       "      <td>Secret Pizza</td>\n",
       "      <td>3741</td>\n",
       "      <td>4.0</td>\n",
       "      <td>NnrCwpS1i5mZtkGGzmIk0g</td>\n",
       "      <td>Serena</td>\n",
       "      <td>428</td>\n",
       "      <td>3.0</td>\n",
       "      <td>Las Vegas</td>\n",
       "      <td>3.80</td>\n",
       "      <td>428</td>\n",
       "      <td>fGtEJo9Rf-EpMBvHYjiXLw</td>\n",
       "    </tr>\n",
       "  </tbody>\n",
       "</table>\n",
       "</div>"
      ],
      "text/plain": [
       "                business_id  business_name  business_review_count  \\\n",
       "87   DVJkxZkLKS76Khb2y6XA6A  Protein House                    382   \n",
       "594  iCQpiavjjPzJ5_3gPD5Ebg   Secret Pizza                   3741   \n",
       "\n",
       "     business_average                 user_id user_name  user_review_count  \\\n",
       "87                4.0  YcmNpPM0ag94g4T0zAtdcg      Jenn                 55   \n",
       "594               4.0  NnrCwpS1i5mZtkGGzmIk0g    Serena                428   \n",
       "\n",
       "     stars       city  user_avg  review_count_y               review_id  \n",
       "87     4.0  Las Vegas      4.02              55  mPq_g2Cx_pMQ72_-BGRCVg  \n",
       "594    3.0  Las Vegas      3.80             428  fGtEJo9Rf-EpMBvHYjiXLw  "
      ]
     },
     "execution_count": 9,
     "metadata": {},
     "output_type": "execute_result"
    }
   ],
   "source": [
    "cols = df_final.columns.values\n",
    "cols[1] = 'business_name'\n",
    "cols[2] = 'business_review_count'\n",
    "cols[3] = 'business_average'\n",
    "cols[5] = 'user_name'\n",
    "cols[6] = 'user_review_count'\n",
    "cols[7] = 'stars'\n",
    "cols[9] = 'user_avg'\n",
    "df_final.columns = cols\n",
    "df_final.head(2)"
   ]
  },
  {
   "cell_type": "code",
   "execution_count": 10,
   "metadata": {
    "collapsed": true
   },
   "outputs": [],
   "source": [
    "df_final=df_final.drop('review_count_y',axis=1)"
   ]
  },
  {
   "cell_type": "code",
   "execution_count": 11,
   "metadata": {},
   "outputs": [
    {
     "data": {
      "text/plain": [
       "(1003628, 11)"
      ]
     },
     "execution_count": 11,
     "metadata": {},
     "output_type": "execute_result"
    }
   ],
   "source": [
    "df_final.shape"
   ]
  },
  {
   "cell_type": "code",
   "execution_count": 12,
   "metadata": {
    "collapsed": true
   },
   "outputs": [],
   "source": [
    "df_reduced = df_final[(df_final.user_review_count >50)&(df_final.business_review_count > 100)]"
   ]
  },
  {
   "cell_type": "code",
   "execution_count": 13,
   "metadata": {},
   "outputs": [
    {
     "data": {
      "text/html": [
       "<div>\n",
       "<style scoped>\n",
       "    .dataframe tbody tr th:only-of-type {\n",
       "        vertical-align: middle;\n",
       "    }\n",
       "\n",
       "    .dataframe tbody tr th {\n",
       "        vertical-align: top;\n",
       "    }\n",
       "\n",
       "    .dataframe thead th {\n",
       "        text-align: right;\n",
       "    }\n",
       "</style>\n",
       "<table border=\"1\" class=\"dataframe\">\n",
       "  <thead>\n",
       "    <tr style=\"text-align: right;\">\n",
       "      <th></th>\n",
       "      <th>business_id</th>\n",
       "      <th>business_name</th>\n",
       "      <th>business_review_count</th>\n",
       "      <th>business_average</th>\n",
       "      <th>user_id</th>\n",
       "      <th>user_name</th>\n",
       "      <th>user_review_count</th>\n",
       "      <th>stars</th>\n",
       "      <th>city</th>\n",
       "      <th>user_avg</th>\n",
       "      <th>review_id</th>\n",
       "    </tr>\n",
       "  </thead>\n",
       "  <tbody>\n",
       "    <tr>\n",
       "      <th>87</th>\n",
       "      <td>DVJkxZkLKS76Khb2y6XA6A</td>\n",
       "      <td>Protein House</td>\n",
       "      <td>382</td>\n",
       "      <td>4.0</td>\n",
       "      <td>YcmNpPM0ag94g4T0zAtdcg</td>\n",
       "      <td>Jenn</td>\n",
       "      <td>55</td>\n",
       "      <td>4.0</td>\n",
       "      <td>Las Vegas</td>\n",
       "      <td>4.02</td>\n",
       "      <td>mPq_g2Cx_pMQ72_-BGRCVg</td>\n",
       "    </tr>\n",
       "    <tr>\n",
       "      <th>594</th>\n",
       "      <td>iCQpiavjjPzJ5_3gPD5Ebg</td>\n",
       "      <td>Secret Pizza</td>\n",
       "      <td>3741</td>\n",
       "      <td>4.0</td>\n",
       "      <td>NnrCwpS1i5mZtkGGzmIk0g</td>\n",
       "      <td>Serena</td>\n",
       "      <td>428</td>\n",
       "      <td>3.0</td>\n",
       "      <td>Las Vegas</td>\n",
       "      <td>3.80</td>\n",
       "      <td>fGtEJo9Rf-EpMBvHYjiXLw</td>\n",
       "    </tr>\n",
       "  </tbody>\n",
       "</table>\n",
       "</div>"
      ],
      "text/plain": [
       "                business_id  business_name  business_review_count  \\\n",
       "87   DVJkxZkLKS76Khb2y6XA6A  Protein House                    382   \n",
       "594  iCQpiavjjPzJ5_3gPD5Ebg   Secret Pizza                   3741   \n",
       "\n",
       "     business_average                 user_id user_name  user_review_count  \\\n",
       "87                4.0  YcmNpPM0ag94g4T0zAtdcg      Jenn                 55   \n",
       "594               4.0  NnrCwpS1i5mZtkGGzmIk0g    Serena                428   \n",
       "\n",
       "     stars       city  user_avg               review_id  \n",
       "87     4.0  Las Vegas      4.02  mPq_g2Cx_pMQ72_-BGRCVg  \n",
       "594    3.0  Las Vegas      3.80  fGtEJo9Rf-EpMBvHYjiXLw  "
      ]
     },
     "execution_count": 13,
     "metadata": {},
     "output_type": "execute_result"
    }
   ],
   "source": [
    "df_reduced.head(2)"
   ]
  },
  {
   "cell_type": "code",
   "execution_count": 14,
   "metadata": {
    "collapsed": true
   },
   "outputs": [],
   "source": [
    "df_ratings = df_reduced[['user_id','business_id','stars']].groupby(['user_id','business_id']).head(1)"
   ]
  },
  {
   "cell_type": "code",
   "execution_count": 15,
   "metadata": {
    "collapsed": true
   },
   "outputs": [],
   "source": [
    "from surprise import Dataset\n",
    "from surprise import Reader"
   ]
  },
  {
   "cell_type": "code",
   "execution_count": 16,
   "metadata": {
    "collapsed": true
   },
   "outputs": [],
   "source": [
    "reader = Reader(rating_scale=(1,5))\n",
    "data = Dataset.load_from_df(df_ratings[['user_id','business_id','stars']],reader)"
   ]
  },
  {
   "cell_type": "code",
   "execution_count": 17,
   "metadata": {
    "collapsed": true
   },
   "outputs": [],
   "source": [
    "from surprise import SVD\n",
    "from surprise import SVDpp\n",
    "from surprise import accuracy\n",
    "from surprise import NMF\n",
    "from surprise.model_selection import train_test_split"
   ]
  },
  {
   "cell_type": "code",
   "execution_count": 18,
   "metadata": {},
   "outputs": [
    {
     "name": "stdout",
     "output_type": "stream",
     "text": [
      "RMSE: 1.0528\n"
     ]
    },
    {
     "data": {
      "text/plain": [
       "1.0528143187886523"
      ]
     },
     "execution_count": 18,
     "metadata": {},
     "output_type": "execute_result"
    }
   ],
   "source": [
    "trainset, testset = train_test_split(data, test_size=.1)\n",
    "algo = SVD()\n",
    "algo.fit(trainset)\n",
    "predictions = algo.test(testset)\n",
    "accuracy.rmse(predictions)"
   ]
  },
  {
   "cell_type": "code",
   "execution_count": 19,
   "metadata": {
    "collapsed": true
   },
   "outputs": [],
   "source": [
    "from surprise import BaselineOnly\n",
    "from surprise import NormalPredictor"
   ]
  },
  {
   "cell_type": "code",
   "execution_count": 20,
   "metadata": {},
   "outputs": [
    {
     "name": "stdout",
     "output_type": "stream",
     "text": [
      "Estimating biases using als...\n",
      "RMSE: 1.0345\n"
     ]
    },
    {
     "data": {
      "text/plain": [
       "1.0345455441793632"
      ]
     },
     "execution_count": 20,
     "metadata": {},
     "output_type": "execute_result"
    }
   ],
   "source": [
    "algo = BaselineOnly()\n",
    "algo.fit(trainset)\n",
    "predictions = algo.test(testset)\n",
    "accuracy.rmse(predictions)"
   ]
  },
  {
   "cell_type": "code",
   "execution_count": 21,
   "metadata": {},
   "outputs": [
    {
     "name": "stdout",
     "output_type": "stream",
     "text": [
      "RMSE: 1.5184\n"
     ]
    },
    {
     "data": {
      "text/plain": [
       "1.5183736676968749"
      ]
     },
     "execution_count": 21,
     "metadata": {},
     "output_type": "execute_result"
    }
   ],
   "source": [
    "algo = NormalPredictor()\n",
    "algo.fit(trainset)\n",
    "predictions = algo.test(testset)\n",
    "accuracy.rmse(predictions)"
   ]
  },
  {
   "cell_type": "code",
   "execution_count": 22,
   "metadata": {
    "collapsed": true
   },
   "outputs": [],
   "source": [
    "from surprise import KNNBasic\n",
    "from surprise import KNNWithMeans\n",
    "from surprise import KNNBaseline"
   ]
  },
  {
   "cell_type": "code",
   "execution_count": 23,
   "metadata": {},
   "outputs": [
    {
     "name": "stdout",
     "output_type": "stream",
     "text": [
      "Computing the msd similarity matrix...\n",
      "Done computing similarity matrix.\n",
      "RMSE: 1.0894\n"
     ]
    },
    {
     "data": {
      "text/plain": [
       "1.089371086552354"
      ]
     },
     "execution_count": 23,
     "metadata": {},
     "output_type": "execute_result"
    }
   ],
   "source": [
    "algo = KNNBasic()\n",
    "algo.fit(trainset)\n",
    "predictions = algo.test(testset)\n",
    "accuracy.rmse(predictions)"
   ]
  },
  {
   "cell_type": "code",
   "execution_count": 24,
   "metadata": {},
   "outputs": [
    {
     "name": "stdout",
     "output_type": "stream",
     "text": [
      "Computing the msd similarity matrix...\n",
      "Done computing similarity matrix.\n",
      "RMSE: 1.1382\n"
     ]
    },
    {
     "data": {
      "text/plain": [
       "1.1381685229070941"
      ]
     },
     "execution_count": 24,
     "metadata": {},
     "output_type": "execute_result"
    }
   ],
   "source": [
    "algo = KNNWithMeans()\n",
    "algo.fit(trainset)\n",
    "predictions = algo.test(testset)\n",
    "accuracy.rmse(predictions)"
   ]
  },
  {
   "cell_type": "code",
   "execution_count": 25,
   "metadata": {},
   "outputs": [
    {
     "name": "stdout",
     "output_type": "stream",
     "text": [
      "Estimating biases using als...\n",
      "Computing the msd similarity matrix...\n",
      "Done computing similarity matrix.\n",
      "RMSE: 1.0528\n"
     ]
    },
    {
     "data": {
      "text/plain": [
       "1.0527607150351956"
      ]
     },
     "execution_count": 25,
     "metadata": {},
     "output_type": "execute_result"
    }
   ],
   "source": [
    "algo = KNNBaseline()\n",
    "algo.fit(trainset)\n",
    "predictions = algo.test(testset)\n",
    "accuracy.rmse(predictions)"
   ]
  },
  {
   "cell_type": "code",
   "execution_count": 26,
   "metadata": {
    "collapsed": true
   },
   "outputs": [],
   "source": [
    "from surprise.model_selection import cross_validate"
   ]
  },
  {
   "cell_type": "code",
   "execution_count": 27,
   "metadata": {},
   "outputs": [
    {
     "name": "stdout",
     "output_type": "stream",
     "text": [
      "Estimating biases using als...\n",
      "Estimating biases using als...\n",
      "Estimating biases using als...\n",
      "Estimating biases using als...\n",
      "Estimating biases using als...\n",
      "Evaluating RMSE, MAE of algorithm BaselineOnly on 5 split(s).\n",
      "\n",
      "                  Fold 1  Fold 2  Fold 3  Fold 4  Fold 5  Mean    Std     \n",
      "MAE (testset)     0.8152  0.8162  0.8177  0.8144  0.8210  0.8169  0.0023  \n",
      "RMSE (testset)    1.0313  1.0334  1.0379  1.0313  1.0395  1.0347  0.0034  \n",
      "Fit time          0.60    0.54    0.57    0.61    0.52    0.57    0.04    \n",
      "Test time         1.11    1.15    1.12    1.15    1.11    1.13    0.02    \n"
     ]
    },
    {
     "data": {
      "text/plain": [
       "{u'fit_time': (0.6016621589660645,\n",
       "  0.5364909172058105,\n",
       "  0.5715670585632324,\n",
       "  0.6141421794891357,\n",
       "  0.5234370231628418),\n",
       " u'test_mae': array([0.81515818, 0.81616361, 0.81772921, 0.81435181, 0.820999  ]),\n",
       " u'test_rmse': array([1.03131017, 1.0333934 , 1.03786384, 1.03132263, 1.03950037]),\n",
       " u'test_time': (1.1133849620819092,\n",
       "  1.1487679481506348,\n",
       "  1.116145133972168,\n",
       "  1.1503088474273682,\n",
       "  1.1122279167175293)}"
      ]
     },
     "execution_count": 27,
     "metadata": {},
     "output_type": "execute_result"
    }
   ],
   "source": [
    "cross_validate(BaselineOnly(),data,measures=['RMSE', 'MAE'],cv=5,verbose=True)"
   ]
  },
  {
   "cell_type": "code",
   "execution_count": 28,
   "metadata": {},
   "outputs": [
    {
     "name": "stdout",
     "output_type": "stream",
     "text": [
      "Evaluating RMSE, MAE of algorithm SVD on 5 split(s).\n",
      "\n",
      "                  Fold 1  Fold 2  Fold 3  Fold 4  Fold 5  Mean    Std     \n",
      "MAE (testset)     0.8336  0.8277  0.8261  0.8310  0.8271  0.8291  0.0028  \n",
      "RMSE (testset)    1.0575  1.0504  1.0475  1.0538  1.0481  1.0515  0.0038  \n",
      "Fit time          20.65   20.88   20.74   20.27   20.33   20.57   0.24    \n",
      "Test time         1.31    1.31    1.29    1.26    1.27    1.29    0.02    \n"
     ]
    },
    {
     "data": {
      "text/plain": [
       "{u'fit_time': (20.6472008228302,\n",
       "  20.883193016052246,\n",
       "  20.74226403236389,\n",
       "  20.267313957214355,\n",
       "  20.330577850341797),\n",
       " u'test_mae': array([0.83358662, 0.82768925, 0.82606331, 0.83100408, 0.82714189]),\n",
       " u'test_rmse': array([1.05753341, 1.05037788, 1.04749987, 1.05379482, 1.04811791]),\n",
       " u'test_time': (1.314255952835083,\n",
       "  1.3090620040893555,\n",
       "  1.290571928024292,\n",
       "  1.2588310241699219,\n",
       "  1.2672338485717773)}"
      ]
     },
     "execution_count": 28,
     "metadata": {},
     "output_type": "execute_result"
    }
   ],
   "source": [
    "cross_validate(SVD(),data,measures=['RMSE', 'MAE'],cv=5,verbose=True)"
   ]
  },
  {
   "cell_type": "code",
   "execution_count": null,
   "metadata": {
    "collapsed": true
   },
   "outputs": [],
   "source": []
  }
 ],
 "metadata": {
  "kernelspec": {
   "display_name": "CourseraML",
   "language": "python",
   "name": "courseraml"
  },
  "language_info": {
   "codemirror_mode": {
    "name": "ipython",
    "version": 2
   },
   "file_extension": ".py",
   "mimetype": "text/x-python",
   "name": "python",
   "nbconvert_exporter": "python",
   "pygments_lexer": "ipython2",
   "version": "2.7.13"
  }
 },
 "nbformat": 4,
 "nbformat_minor": 2
}
